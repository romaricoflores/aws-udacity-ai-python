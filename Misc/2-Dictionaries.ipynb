{
 "cells": [
  {
   "cell_type": "markdown",
   "id": "835ab427",
   "metadata": {},
   "source": [
    "# Making Dictionaries"
   ]
  },
  {
   "cell_type": "markdown",
   "id": "2b90458b",
   "metadata": {},
   "source": [
    "## Method 1: Using a for loop to create a set of counter"
   ]
  },
  {
   "cell_type": "code",
   "execution_count": 1,
   "id": "0e20253e",
   "metadata": {},
   "outputs": [],
   "source": [
    "book_title =  ['great', 'expectations','the', 'adventures', 'of', 'sherlock','holmes','the','great','gasby','hamlet','adventures','of','huckleberry','fin']"
   ]
  },
  {
   "cell_type": "code",
   "execution_count": 2,
   "id": "6a431399",
   "metadata": {},
   "outputs": [],
   "source": [
    "word_counter = {}"
   ]
  },
  {
   "cell_type": "code",
   "execution_count": 3,
   "id": "49a29e3f",
   "metadata": {},
   "outputs": [],
   "source": [
    "for word in book_title:\n",
    "    if word not in word_counter:\n",
    "        word_counter[word] = 1\n",
    "    else:\n",
    "        word_counter[word] += 1"
   ]
  },
  {
   "cell_type": "markdown",
   "id": "204999a2",
   "metadata": {},
   "source": [
    "What's happening here?\n",
    "The for loop iterates through each element in the list. For the first iteration, word takes the value 'great'.\n",
    "Next, the if statement checks if word is in the word_counter dictionary.\n",
    "Since it doesn't yet, the statement word_counter[word] = 1 adds great as a key to the dictionary with a value of 1.\n",
    "Then, it leaves the if else statement and moves on to the next iteration of the for loop. word now takes the value expectations and repeats the process.\n",
    "When the if condition is not met, it is because thatword already exists in the word_counter dictionary, and the statement word_counter[word] = word_counter[word] + 1 increases the count of that word by 1.\n",
    "Once the for loop finishes iterating through the list, the for loop is complete."
   ]
  },
  {
   "cell_type": "code",
   "execution_count": 4,
   "id": "66be119e",
   "metadata": {},
   "outputs": [
    {
     "name": "stdout",
     "output_type": "stream",
     "text": [
      "{'great': 2, 'expectations': 1, 'the': 2, 'adventures': 2, 'of': 2, 'sherlock': 1, 'holmes': 1, 'gasby': 1, 'hamlet': 1, 'huckleberry': 1, 'fin': 1}\n"
     ]
    }
   ],
   "source": [
    "print(word_counter)"
   ]
  },
  {
   "cell_type": "markdown",
   "id": "dab182d8",
   "metadata": {},
   "source": [
    "## Method 2: Using the get method"
   ]
  },
  {
   "cell_type": "code",
   "execution_count": 5,
   "id": "5939a959",
   "metadata": {},
   "outputs": [],
   "source": [
    "book_title =  ['great', 'expectations','the', 'adventures', 'of', 'sherlock','holmes','the','great','gasby','hamlet','adventures','of','huckleberry','fin']"
   ]
  },
  {
   "cell_type": "code",
   "execution_count": 7,
   "id": "d9b82525",
   "metadata": {},
   "outputs": [],
   "source": [
    "word_counter = {}"
   ]
  },
  {
   "cell_type": "code",
   "execution_count": 8,
   "id": "8ed00047",
   "metadata": {},
   "outputs": [],
   "source": [
    "for word in book_title:\n",
    "    word_counter[word] = word_counter.get(word, 0) + 1"
   ]
  },
  {
   "cell_type": "markdown",
   "id": "5dbf9e05",
   "metadata": {},
   "source": [
    "What's happening here?\n",
    "The for loop iterates through the list as we saw earlier. The for loop feeds 'great' to the next statement in the body of the for loop.\n",
    "In this line: word_counter[word] = word_counter.get(word,0) + 1, since the key 'great' doesn't yet exist in the dictionary, get() will return the value 0 and word_counter[word] will be set to 1.\n",
    "Once it encounters a word that already exists in word_counter (e.g. the second appearance of 'the'), the value for that key is incremented by 1. On the second appearance of 'the', the key's value would add 1 again, resulting in 2.\n",
    "Once the for loop finishes iterating through the list, the for loop is complete."
   ]
  },
  {
   "cell_type": "code",
   "execution_count": 10,
   "id": "6a50bac0",
   "metadata": {},
   "outputs": [
    {
     "name": "stdout",
     "output_type": "stream",
     "text": [
      "{'great': 2, 'expectations': 1, 'the': 2, 'adventures': 2, 'of': 2, 'sherlock': 1, 'holmes': 1, 'gasby': 1, 'hamlet': 1, 'huckleberry': 1, 'fin': 1}\n"
     ]
    }
   ],
   "source": [
    "print(word_counter)"
   ]
  }
 ],
 "metadata": {
  "kernelspec": {
   "display_name": "Python 3 (ipykernel)",
   "language": "python",
   "name": "python3"
  },
  "language_info": {
   "codemirror_mode": {
    "name": "ipython",
    "version": 3
   },
   "file_extension": ".py",
   "mimetype": "text/x-python",
   "name": "python",
   "nbconvert_exporter": "python",
   "pygments_lexer": "ipython3",
   "version": "3.9.16"
  }
 },
 "nbformat": 4,
 "nbformat_minor": 5
}
