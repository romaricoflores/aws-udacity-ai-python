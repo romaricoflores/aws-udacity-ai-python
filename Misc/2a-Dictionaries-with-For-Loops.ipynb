{
 "cells": [
  {
   "cell_type": "markdown",
   "id": "87b63cf9",
   "metadata": {},
   "source": [
    "# Iterating Through Dictionaries with For Loops"
   ]
  },
  {
   "cell_type": "code",
   "execution_count": 1,
   "id": "13349e46",
   "metadata": {},
   "outputs": [],
   "source": [
    "cast = {\n",
    "           \"Jerry Seinfeld\": \"Jerry Seinfeld\",\n",
    "           \"Julia Louis-Dreyfus\": \"Elaine Benes\",\n",
    "           \"Jason Alexander\": \"George Costanza\",\n",
    "           \"Michael Richards\": \"Cosmo Kramer\"\n",
    "       }"
   ]
  },
  {
   "cell_type": "code",
   "execution_count": 2,
   "id": "4089835b",
   "metadata": {},
   "outputs": [
    {
     "name": "stdout",
     "output_type": "stream",
     "text": [
      "Jerry Seinfeld\n",
      "Julia Louis-Dreyfus\n",
      "Jason Alexander\n",
      "Michael Richards\n"
     ]
    }
   ],
   "source": [
    "# Iterating and printing keys\n",
    "\n",
    "for key in cast:\n",
    "    print(key)"
   ]
  },
  {
   "cell_type": "code",
   "execution_count": 6,
   "id": "f0d46305",
   "metadata": {},
   "outputs": [
    {
     "name": "stdout",
     "output_type": "stream",
     "text": [
      "Actor: Jerry Seinfeld    Role: Jerry Seinfeld\n",
      "Actor: Julia Louis-Dreyfus    Role: Elaine Benes\n",
      "Actor: Jason Alexander    Role: George Costanza\n",
      "Actor: Michael Richards    Role: Cosmo Kramer\n"
     ]
    }
   ],
   "source": [
    "# Iterating and printing both keys and items\n",
    "for key, value in cast.items():\n",
    "    print(\"Actor: {}    Role: {}\".format(key, value))"
   ]
  },
  {
   "cell_type": "markdown",
   "id": "3b6ea5fb",
   "metadata": {},
   "source": [
    "**items** is an awesome method that returns tuples of key, value pairs, which you can use to iterate over dictionaries in for loops."
   ]
  }
 ],
 "metadata": {
  "kernelspec": {
   "display_name": "Python 3 (ipykernel)",
   "language": "python",
   "name": "python3"
  },
  "language_info": {
   "codemirror_mode": {
    "name": "ipython",
    "version": 3
   },
   "file_extension": ".py",
   "mimetype": "text/x-python",
   "name": "python",
   "nbconvert_exporter": "python",
   "pygments_lexer": "ipython3",
   "version": "3.9.16"
  }
 },
 "nbformat": 4,
 "nbformat_minor": 5
}
