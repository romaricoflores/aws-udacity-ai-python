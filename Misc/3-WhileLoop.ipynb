{
 "cells": [
  {
   "cell_type": "markdown",
   "id": "0d40f26b",
   "metadata": {},
   "source": [
    "Question: You need to write a loop that takes the numbers in a given list named num_list:\n",
    "num_list = [422, 136, 524, 85, 96, 719, 85, 92, 10, 17, 312, 542, 87, 23, 86, 191, 116, 35, 173, 45, 149, 59, 84, 69, 113, 166]\n",
    "\n",
    "Your code should add up the odd numbers in the list, but only up to the first 5 odd numbers together. If there are more than 5 odd numbers, you should stop at the fifth. If there are fewer than 5 odd numbers, add all of the odd numbers.\n",
    "\n",
    "Our solution:\n",
    "We would write a while loop to write this code for the following reasons:\n",
    "\n",
    "We don't need a break statement that a for loop will require. Without a break statement, a for loop will iterate through the whole list, which is not efficient.\n",
    "We don't want to iterate over the entire list, but only over the required number of elements in the list that meets our condition.\n",
    "It is easier to understand because you explicitly control the exit conditions for the loop."
   ]
  },
  {
   "cell_type": "code",
   "execution_count": null,
   "id": "62f7e22a",
   "metadata": {},
   "outputs": [],
   "source": []
  }
 ],
 "metadata": {
  "kernelspec": {
   "display_name": "Python 3 (ipykernel)",
   "language": "python",
   "name": "python3"
  },
  "language_info": {
   "codemirror_mode": {
    "name": "ipython",
    "version": 3
   },
   "file_extension": ".py",
   "mimetype": "text/x-python",
   "name": "python",
   "nbconvert_exporter": "python",
   "pygments_lexer": "ipython3",
   "version": "3.9.16"
  }
 },
 "nbformat": 4,
 "nbformat_minor": 5
}
