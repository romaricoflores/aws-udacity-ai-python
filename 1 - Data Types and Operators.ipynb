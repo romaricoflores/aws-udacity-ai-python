{
 "cells": [
  {
   "cell_type": "code",
   "execution_count": 3,
   "id": "f21f5ea8",
   "metadata": {},
   "outputs": [],
   "source": [
    "salesman = \"I think you\\'re an encyclopedia salesman\""
   ]
  },
  {
   "cell_type": "code",
   "execution_count": 4,
   "id": "4e55e1eb",
   "metadata": {},
   "outputs": [
    {
     "data": {
      "text/plain": [
       "\"I think you're an encyclopedia salesman\""
      ]
     },
     "execution_count": 4,
     "metadata": {},
     "output_type": "execute_result"
    }
   ],
   "source": [
    "salesman"
   ]
  },
  {
   "cell_type": "code",
   "execution_count": 6,
   "id": "565e8032",
   "metadata": {},
   "outputs": [
    {
     "name": "stdout",
     "output_type": "stream",
     "text": [
      "Mohammed has 27 balloons\n"
     ]
    }
   ],
   "source": [
    "print(\"Mohammed has {} balloons\".format(27))"
   ]
  },
  {
   "cell_type": "code",
   "execution_count": 10,
   "id": "40bf0360",
   "metadata": {},
   "outputs": [
    {
     "data": {
      "text/plain": [
       "True"
      ]
     },
     "execution_count": 10,
     "metadata": {},
     "output_type": "execute_result"
    }
   ],
   "source": [
    "\"data\".islower()"
   ]
  },
  {
   "cell_type": "code",
   "execution_count": 11,
   "id": "802e54b2",
   "metadata": {},
   "outputs": [],
   "source": [
    "list_of_random_things = [1, 3.4, 'a string', True]"
   ]
  },
  {
   "cell_type": "code",
   "execution_count": 13,
   "id": "b443606c",
   "metadata": {},
   "outputs": [
    {
     "data": {
      "text/plain": [
       "4"
      ]
     },
     "execution_count": 13,
     "metadata": {},
     "output_type": "execute_result"
    }
   ],
   "source": [
    "len(list_of_random_things)"
   ]
  },
  {
   "cell_type": "code",
   "execution_count": 14,
   "id": "9226cd83",
   "metadata": {},
   "outputs": [
    {
     "data": {
      "text/plain": [
       "False"
      ]
     },
     "execution_count": 14,
     "metadata": {},
     "output_type": "execute_result"
    }
   ],
   "source": [
    "list_of_random_things[1:2] == list_of_random_things[1]"
   ]
  },
  {
   "cell_type": "code",
   "execution_count": 15,
   "id": "230ec8a0",
   "metadata": {},
   "outputs": [
    {
     "data": {
      "text/plain": [
       "3.4"
      ]
     },
     "execution_count": 15,
     "metadata": {},
     "output_type": "execute_result"
    }
   ],
   "source": [
    "list_of_random_things[1]"
   ]
  },
  {
   "cell_type": "code",
   "execution_count": 16,
   "id": "8a22be8e",
   "metadata": {},
   "outputs": [
    {
     "data": {
      "text/plain": [
       "[3.4]"
      ]
     },
     "execution_count": 16,
     "metadata": {},
     "output_type": "execute_result"
    }
   ],
   "source": [
    "list_of_random_things[1:2]"
   ]
  },
  {
   "cell_type": "code",
   "execution_count": 17,
   "id": "a1ac9e2d",
   "metadata": {},
   "outputs": [
    {
     "data": {
      "text/plain": [
       "float"
      ]
     },
     "execution_count": 17,
     "metadata": {},
     "output_type": "execute_result"
    }
   ],
   "source": [
    "type(list_of_random_things[1])"
   ]
  },
  {
   "cell_type": "code",
   "execution_count": 18,
   "id": "2519dad9",
   "metadata": {},
   "outputs": [
    {
     "data": {
      "text/plain": [
       "list"
      ]
     },
     "execution_count": 18,
     "metadata": {},
     "output_type": "execute_result"
    }
   ],
   "source": [
    "type(list_of_random_things[1:2])"
   ]
  },
  {
   "cell_type": "code",
   "execution_count": 1,
   "id": "a6213a25",
   "metadata": {},
   "outputs": [],
   "source": [
    "a = [1, 2, 2, 3, 3, 3, 4, 4, 4, 4]"
   ]
  },
  {
   "cell_type": "code",
   "execution_count": 2,
   "id": "2249f5d2",
   "metadata": {},
   "outputs": [
    {
     "data": {
      "text/plain": [
       "[1, 2, 2, 3, 3, 3, 4, 4, 4, 4]"
      ]
     },
     "execution_count": 2,
     "metadata": {},
     "output_type": "execute_result"
    }
   ],
   "source": [
    "a"
   ]
  },
  {
   "cell_type": "code",
   "execution_count": 3,
   "id": "810bdce8",
   "metadata": {},
   "outputs": [],
   "source": [
    "b = set(a)"
   ]
  },
  {
   "cell_type": "code",
   "execution_count": 4,
   "id": "b711160a",
   "metadata": {},
   "outputs": [
    {
     "data": {
      "text/plain": [
       "{1, 2, 3, 4}"
      ]
     },
     "execution_count": 4,
     "metadata": {},
     "output_type": "execute_result"
    }
   ],
   "source": [
    "b"
   ]
  },
  {
   "cell_type": "code",
   "execution_count": 5,
   "id": "90cea16f",
   "metadata": {},
   "outputs": [],
   "source": [
    "elements = {\"hydrogen\": 1, \"helium\": 2, \"carbon\": 6}"
   ]
  },
  {
   "cell_type": "code",
   "execution_count": 6,
   "id": "31271d96",
   "metadata": {},
   "outputs": [
    {
     "name": "stdout",
     "output_type": "stream",
     "text": [
      "2\n"
     ]
    }
   ],
   "source": [
    "print(elements.get(\"helium\"))\n"
   ]
  },
  {
   "cell_type": "code",
   "execution_count": 8,
   "id": "f27ba60c",
   "metadata": {},
   "outputs": [
    {
     "name": "stdout",
     "output_type": "stream",
     "text": [
      "True\n",
      "True\n",
      "True\n",
      "False\n",
      "True\n"
     ]
    }
   ],
   "source": [
    "a = [1, 2, 3]\n",
    "b = a\n",
    "c = [1, 2, 3]\n",
    "\n",
    "print(a == b)\n",
    "print(a is b)\n",
    "print(a == c)\n",
    "print(a is c)\n",
    "print(a is b)"
   ]
  },
  {
   "cell_type": "code",
   "execution_count": 10,
   "id": "3d3feacd",
   "metadata": {},
   "outputs": [],
   "source": [
    "animals = {'dogs': [20, 10, 15, 8, 32, 15], \n",
    "           'cats': [3,4,2,8,2,4], \n",
    "           'rabbits': [2, 3, 3], \n",
    "           'fish': [0.3, 0.5, 0.8, 0.3, 1]}"
   ]
  },
  {
   "cell_type": "code",
   "execution_count": 12,
   "id": "8fcf9cde",
   "metadata": {},
   "outputs": [
    {
     "data": {
      "text/plain": [
       "[0.3, 0.5, 0.8, 0.3, 1]"
      ]
     },
     "execution_count": 12,
     "metadata": {},
     "output_type": "execute_result"
    }
   ],
   "source": [
    "animals['fish']"
   ]
  },
  {
   "cell_type": "code",
   "execution_count": 13,
   "id": "998f3091",
   "metadata": {},
   "outputs": [],
   "source": [
    "elements = {\"hydrogen\": {\"number\": 1,\n",
    "                         \"weight\": 1.00794,\n",
    "                         \"symbol\": \"H\"},\n",
    "              \"helium\": {\"number\": 2,\n",
    "                         \"weight\": 4.002602,\n",
    "                         \"symbol\": \"He\"}}"
   ]
  },
  {
   "cell_type": "code",
   "execution_count": 14,
   "id": "738c2346",
   "metadata": {},
   "outputs": [
    {
     "data": {
      "text/plain": [
       "{'number': 2, 'weight': 4.002602, 'symbol': 'He'}"
      ]
     },
     "execution_count": 14,
     "metadata": {},
     "output_type": "execute_result"
    }
   ],
   "source": [
    "elements[\"helium\"]"
   ]
  },
  {
   "cell_type": "code",
   "execution_count": 15,
   "id": "04b63865",
   "metadata": {},
   "outputs": [],
   "source": [
    "hydrogen_weight = elements[\"hydrogen\"][\"weight\"]"
   ]
  },
  {
   "cell_type": "code",
   "execution_count": 16,
   "id": "1f3ea59c",
   "metadata": {},
   "outputs": [
    {
     "data": {
      "text/plain": [
       "1.00794"
      ]
     },
     "execution_count": 16,
     "metadata": {},
     "output_type": "execute_result"
    }
   ],
   "source": [
    "hydrogen_weight"
   ]
  },
  {
   "cell_type": "code",
   "execution_count": 18,
   "id": "2113edbb",
   "metadata": {},
   "outputs": [],
   "source": [
    "elements = {'hydrogen': {'number': 1,\n",
    "                         'weight': 1.00794,\n",
    "                         'symbol': 'H',\n",
    "                         'is_noble_gas':False},\n",
    "            'helium': {'number': 2,\n",
    "                       'weibght': 4.002602,\n",
    "                       'symbol': 'He',\n",
    "                       'is_noble_gas': True}\n",
    "           }\n",
    "# TODO: Add an 'is_noble_gas' entry to the hydrogen and helium dictionaries\n",
    "# hint: helium is a noble gas, hydrogen isn't"
   ]
  },
  {
   "cell_type": "code",
   "execution_count": 21,
   "id": "71b9be74",
   "metadata": {},
   "outputs": [
    {
     "name": "stdout",
     "output_type": "stream",
     "text": [
      "if you can keep your head when all about you are losing theirs and blaming it on you   if you can trust yourself when all men doubt you     but make allowance for their doubting too   if you can wait and not be tired by waiting      or being lied about  don’t deal in lies   or being hated  don’t give way to hating      and yet don’t look too good  nor talk too wise \n",
      "\n",
      "['if', 'you', 'can', 'keep', 'your', 'head', 'when', 'all', 'about', 'you', 'are', 'losing', 'theirs', 'and', 'blaming', 'it', 'on', 'you', 'if', 'you', 'can', 'trust', 'yourself', 'when', 'all', 'men', 'doubt', 'you', 'but', 'make', 'allowance', 'for', 'their', 'doubting', 'too', 'if', 'you', 'can', 'wait', 'and', 'not', 'be', 'tired', 'by', 'waiting', 'or', 'being', 'lied', 'about', 'don’t', 'deal', 'in', 'lies', 'or', 'being', 'hated', 'don’t', 'give', 'way', 'to', 'hating', 'and', 'yet', 'don’t', 'look', 'too', 'good', 'nor', 'talk', 'too', 'wise'] \n",
      "\n"
     ]
    }
   ],
   "source": [
    "verse = \"if you can keep your head when all about you are losing theirs and blaming it on you   if you can trust yourself when all men doubt you     but make allowance for their doubting too   if you can wait and not be tired by waiting      or being lied about  don’t deal in lies   or being hated  don’t give way to hating      and yet don’t look too good  nor talk too wise\"\n",
    "print(verse, '\\n')\n",
    "\n",
    "# TODO: replace None with appropriate bcode\n",
    "# split verse into list of words\n",
    "verse_list = verse.split()\n",
    "print(verse_list, '\\n')"
   ]
  },
  {
   "cell_type": "code",
   "execution_count": 22,
   "id": "d3a68bfc",
   "metadata": {},
   "outputs": [
    {
     "name": "stdout",
     "output_type": "stream",
     "text": [
      "{'if', 'good', 'tired', 'all', 'about', 'talk', 'hating', 'you', 'lies', 'and', 'keep', 'it', 'doubt', 'waiting', 'not', 'lied', 'blaming', 'make', 'be', 'way', 'when', 'hated', 'are', 'losing', 'theirs', 'trust', 'don’t', 'look', 'nor', 'yet', 'their', 'but', 'being', 'for', 'in', 'to', 'or', 'by', 'wise', 'men', 'give', 'on', 'can', 'allowance', 'too', 'wait', 'your', 'head', 'yourself', 'doubting', 'deal'} \n",
      "\n"
     ]
    }
   ],
   "source": [
    "# TODO: replace None with appropriate code\n",
    "# convert list to a data structure that stores unique elements\n",
    "verse_set = set(verse_list)\n",
    "print(verse_set, '\\n')"
   ]
  },
  {
   "cell_type": "code",
   "execution_count": 23,
   "id": "67763deb",
   "metadata": {},
   "outputs": [
    {
     "name": "stdout",
     "output_type": "stream",
     "text": [
      "51 \n",
      "\n"
     ]
    }
   ],
   "source": [
    "# TODO: replace None with appropriate code\n",
    "# find the number of unique words\n",
    "num_unique = len(verse_set)\n",
    "print(num_unique, '\\n')"
   ]
  }
 ],
 "metadata": {
  "kernelspec": {
   "display_name": "Python 3 (ipykernel)",
   "language": "python",
   "name": "python3"
  },
  "language_info": {
   "codemirror_mode": {
    "name": "ipython",
    "version": 3
   },
   "file_extension": ".py",
   "mimetype": "text/x-python",
   "name": "python",
   "nbconvert_exporter": "python",
   "pygments_lexer": "ipython3",
   "version": "3.9.16"
  }
 },
 "nbformat": 4,
 "nbformat_minor": 5
}
